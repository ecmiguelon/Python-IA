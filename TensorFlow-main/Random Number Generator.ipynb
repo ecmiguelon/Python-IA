{
 "cells": [
  {
   "cell_type": "markdown",
   "metadata": {},
   "source": [
    "# Random Number Generator"
   ]
  },
  {
   "cell_type": "code",
   "execution_count": 2,
   "metadata": {},
   "outputs": [],
   "source": [
    "import tensorflow as tf"
   ]
  },
  {
   "cell_type": "code",
   "execution_count": 3,
   "metadata": {},
   "outputs": [
    {
     "data": {
      "text/plain": [
       "<tf.Tensor: shape=(2, 3), dtype=float32, numpy=\n",
       "array([[ 0.9356609 ,  1.0854305 , -0.93788373],\n",
       "       [-0.5061547 ,  1.3169702 ,  0.7137579 ]], dtype=float32)>"
      ]
     },
     "execution_count": 3,
     "metadata": {},
     "output_type": "execute_result"
    }
   ],
   "source": [
    "g = tf.random.Generator.from_seed(1234)\n",
    "g.normal(shape=(2,3))"
   ]
  },
  {
   "cell_type": "code",
   "execution_count": 13,
   "metadata": {},
   "outputs": [
    {
     "name": "stdout",
     "output_type": "stream",
     "text": [
      "tf.Tensor([[0 1 1 0 0]], shape=(1, 5), dtype=int64)\n"
     ]
    }
   ],
   "source": [
    "samples = tf.random.categorical(tf.math.log([[0.5, 0.5]]),5)\n",
    "print(samples)"
   ]
  },
  {
   "cell_type": "code",
   "execution_count": 15,
   "metadata": {},
   "outputs": [
    {
     "name": "stdout",
     "output_type": "stream",
     "text": [
      "tf.Tensor(\n",
      "[[0.6886381  2.287305  ]\n",
      " [0.01430319 0.9921987 ]\n",
      " [0.6153091  1.8891839 ]\n",
      " [0.00468624 1.4972364 ]\n",
      " [0.25813714 0.5936209 ]\n",
      " [0.24143161 1.9633505 ]\n",
      " [0.59806484 1.4848603 ]\n",
      " [1.2489866  2.529931  ]\n",
      " [0.58829814 1.009141  ]\n",
      " [0.06021811 0.8564499 ]], shape=(10, 2), dtype=float32)\n"
     ]
    }
   ],
   "source": [
    "samples = tf.random.gamma([10], [0.5, 1.5])\n",
    "print(samples)"
   ]
  },
  {
   "cell_type": "code",
   "execution_count": 16,
   "metadata": {},
   "outputs": [
    {
     "name": "stdout",
     "output_type": "stream",
     "text": [
      "tf.Tensor(\n",
      "[[0. 1.]\n",
      " [0. 0.]\n",
      " [2. 0.]\n",
      " [0. 2.]\n",
      " [0. 1.]\n",
      " [0. 3.]\n",
      " [0. 3.]\n",
      " [0. 1.]\n",
      " [0. 4.]\n",
      " [0. 1.]], shape=(10, 2), dtype=float32)\n"
     ]
    }
   ],
   "source": [
    "samples = tf.random.poisson([10], [0.5, 1.5])\n",
    "print(samples)"
   ]
  },
  {
   "cell_type": "code",
   "execution_count": 17,
   "metadata": {},
   "outputs": [
    {
     "data": {
      "text/plain": [
       "<tf.Tensor: shape=(2,), dtype=float32, numpy=array([0.22751772, 0.5011414 ], dtype=float32)>"
      ]
     },
     "execution_count": 17,
     "metadata": {},
     "output_type": "execute_result"
    }
   ],
   "source": [
    "tf.random.uniform(shape=[2])"
   ]
  },
  {
   "cell_type": "code",
   "execution_count": null,
   "metadata": {},
   "outputs": [],
   "source": []
  }
 ],
 "metadata": {
  "kernelspec": {
   "display_name": "Python 3",
   "language": "python",
   "name": "python3"
  },
  "language_info": {
   "codemirror_mode": {
    "name": "ipython",
    "version": 3
   },
   "file_extension": ".py",
   "mimetype": "text/x-python",
   "name": "python",
   "nbconvert_exporter": "python",
   "pygments_lexer": "ipython3",
   "version": "3.8.3"
  }
 },
 "nbformat": 4,
 "nbformat_minor": 4
}
